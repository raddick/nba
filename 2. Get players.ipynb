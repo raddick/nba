{
 "cells": [
  {
   "cell_type": "code",
   "execution_count": 27,
   "metadata": {},
   "outputs": [
    {
     "name": "stdout",
     "output_type": "stream",
     "text": [
      "ok\n"
     ]
    }
   ],
   "source": [
    "from datetime import timedelta, date\n",
    "import pandas\n",
    "import requests\n",
    "from bs4 import BeautifulSoup as bs\n",
    "from pprint import pprint\n",
    "#import re\n",
    "import numpy as np\n",
    "import string\n",
    "from datetime import datetime, timedelta\n",
    "from IPython.display import display, HTML\n",
    "\n",
    "thisdir = '/home/idies/workspace/Storage/raddick/nba/'\n",
    "teamfile = thisdir + 'teamlist.csv'\n",
    "\n",
    "outdir = '/home/idies/workspace/Temporary/raddick/nba_scratch/'\n",
    "\n",
    "def daterange(start_date, end_date):\n",
    "    for n in range(int ((end_date - start_date).days)):\n",
    "        yield start_date + timedelta(n)\n",
    "print('ok')"
   ]
  },
  {
   "cell_type": "code",
   "execution_count": 28,
   "metadata": {},
   "outputs": [
    {
     "name": "stdout",
     "output_type": "stream",
     "text": [
      "\thttps://www.basketball-reference.com/players/a/\n",
      "\thttps://www.basketball-reference.com/players/b/\n",
      "\thttps://www.basketball-reference.com/players/c/\n",
      "\thttps://www.basketball-reference.com/players/d/\n",
      "\thttps://www.basketball-reference.com/players/e/\n",
      "\thttps://www.basketball-reference.com/players/f/\n",
      "\thttps://www.basketball-reference.com/players/g/\n",
      "\thttps://www.basketball-reference.com/players/h/\n",
      "\thttps://www.basketball-reference.com/players/i/\n",
      "\thttps://www.basketball-reference.com/players/j/\n",
      "\thttps://www.basketball-reference.com/players/k/\n",
      "\thttps://www.basketball-reference.com/players/l/\n",
      "\thttps://www.basketball-reference.com/players/m/\n",
      "\thttps://www.basketball-reference.com/players/n/\n",
      "\thttps://www.basketball-reference.com/players/o/\n",
      "\thttps://www.basketball-reference.com/players/p/\n",
      "\thttps://www.basketball-reference.com/players/q/\n",
      "\thttps://www.basketball-reference.com/players/r/\n",
      "\thttps://www.basketball-reference.com/players/s/\n",
      "\thttps://www.basketball-reference.com/players/t/\n",
      "\thttps://www.basketball-reference.com/players/u/\n",
      "\thttps://www.basketball-reference.com/players/v/\n",
      "\thttps://www.basketball-reference.com/players/w/\n",
      "\thttps://www.basketball-reference.com/players/y/\n",
      "\thttps://www.basketball-reference.com/players/z/\n",
      "fixing names...\n",
      "fixing positions...\n",
      "fixing career years and weight...\n",
      "fixing height...\n",
      "fixing birth date...\n",
      "fixing college(s)...\n",
      "fixing column order...\n",
      "DONE!\n"
     ]
    }
   ],
   "source": [
    "all_players_df = pandas.DataFrame()\n",
    "for ltr in string.ascii_lowercase:\n",
    "    theurl = 'https://www.basketball-reference.com/players/{0:}/'.format(ltr)\n",
    "    response = requests.get(theurl)\n",
    "    if (response.status_code == 200):\n",
    "        print('\\t'+theurl)\n",
    "        soup = bs(response.content, \"html.parser\", from_encoding=\"utf-8\")\n",
    "        thetables = soup.findAll('table')\n",
    "        for thistable in thetables:\n",
    "            tablebody = thistable.find('tbody')\n",
    "            all_player_rows = tablebody.findAll('tr')\n",
    "            player_info_records = []            \n",
    "            for this_player_row in all_player_rows:\n",
    "                this_player_info_dict = {}\n",
    "                this_player_info_dict['playerID'] = this_player_row.find('th').get('data-append-csv')\n",
    "                this_player_info_dict['player_name'] = this_player_row.find('th').get_text()\n",
    "                for this_stat in this_player_row.findAll('td'):\n",
    "                    this_player_info_dict[this_stat.get('data-stat')] = this_stat.get_text()\n",
    "                player_info_records.append(this_player_info_dict)\n",
    "        player_info_df = pandas.DataFrame.from_records(player_info_records)\n",
    "        all_players_df = all_players_df.append(player_info_df)\n",
    "\n",
    "print('fixing names...')\n",
    "all_players_df = all_players_df.assign(name_first = all_players_df['player_name'].apply(lambda x: x[0:x.find(' ')]))\n",
    "all_players_df = all_players_df.assign(name_last = all_players_df['player_name'].apply(lambda x: x[x.find(' ')+1:]))\n",
    "\n",
    "all_players_df = all_players_df.assign(hall_of_fame = False)\n",
    "all_players_df.loc[all_players_df['name_last'].apply(lambda x: x[-1] == '*'), 'hall_of_fame'] = True\n",
    "all_players_df.loc[all_players_df['name_last'].apply(lambda x: x[-1] == '*'), 'name_last'] = all_players_df['name_last'][all_players_df['name_last'].apply(lambda x: x[-1] == '*')].apply(lambda x: x[:-1])\n",
    "\n",
    "\n",
    "\n",
    "print('fixing positions...')\n",
    "all_players_df = all_players_df.assign(pos_primary = all_players_df['pos'].apply(lambda x: x.split('-')[0]))\n",
    "all_players_df = all_players_df.assign(pos_secondary = '')\n",
    "all_players_df.loc[all_players_df['pos'].apply(lambda x: len(x.split('-')) > 1), 'pos_secondary'] = all_players_df['pos'][all_players_df['pos'].apply(lambda x: len(x.split('-')) > 1)].apply(lambda x: x.split('-')[1])\n",
    "\n",
    "print('fixing career years and weight...')\n",
    "for x in ['year_min', 'year_max', 'weight']:\n",
    "    all_players_df.loc[:, x] = pandas.to_numeric(all_players_df[x], errors='coerce')\n",
    "\n",
    "print('fixing height...')\n",
    "all_players_df = all_players_df.assign(height_inches = all_players_df['height'].apply(lambda x: int(x.split('-')[0])*12 + int(x.split('-')[1])))\n",
    "\n",
    "print('fixing birth date...')\n",
    "all_players_df.loc[:, 'birth_date'] = pandas.to_datetime(all_players_df['birth_date'], errors='coerce')\n",
    "\n",
    "print('fixing college(s)...')\n",
    "##all_players_df['colleges'].apply(lambda x: len(x.split(','))).max()\n",
    "all_players_df = all_players_df.assign(college = all_players_df['colleges'].apply(lambda x: x.split(',')[0]))\n",
    "all_players_df = all_players_df.assign(college_second = '')\n",
    "all_players_df.loc[all_players_df['colleges'].apply(lambda x: len(x.split(',')) > 1), 'college_second'] = all_players_df['colleges'][all_players_df['colleges'].apply(lambda x: len(x.split(',')) > 1)].apply(lambda x: x.split(',')[1])\n",
    "\n",
    "print('fixing column order...')\n",
    "all_players_df = all_players_df.set_index('playerID')\n",
    "column_order = ['name_last', 'name_first', 'year_min', 'year_max', 'pos_primary', 'pos_secondary']\n",
    "column_order += ['height_inches', 'weight', 'birth_date', 'college', 'college_second', 'hall_of_fame']\n",
    "all_players_df = all_players_df[column_order]\n",
    "\n",
    "\n",
    "all_players_df = all_players_df.sort_values(by='playerID')\n",
    "\n",
    "all_players_df.to_csv(outdir+'players.csv', encoding='utf-8')\n",
    "\n",
    "print('DONE!')"
   ]
  },
  {
   "cell_type": "code",
   "execution_count": null,
   "metadata": {},
   "outputs": [],
   "source": []
  },
  {
   "cell_type": "code",
   "execution_count": null,
   "metadata": {},
   "outputs": [],
   "source": []
  }
 ],
 "metadata": {
  "kernelspec": {
   "display_name": "Python 3",
   "language": "python",
   "name": "python3"
  },
  "language_info": {
   "codemirror_mode": {
    "name": "ipython",
    "version": 3
   },
   "file_extension": ".py",
   "mimetype": "text/x-python",
   "name": "python",
   "nbconvert_exporter": "python",
   "pygments_lexer": "ipython3",
   "version": "3.6.6"
  }
 },
 "nbformat": 4,
 "nbformat_minor": 2
}
